{
 "cells": [
  {
   "cell_type": "code",
   "execution_count": 1,
   "metadata": {
    "collapsed": true
   },
   "outputs": [],
   "source": [
    "# ---------------------------------------------------------------\n",
    "# python best courses https://courses.tanpham.org/\n",
    "# ---------------------------------------------------------------\n",
    "# Create a program that asks the user to enter their name and their age.\n",
    "# Print out a message addressed to them that tells them the year that they will turn 100 years old."
   ]
  },
  {
   "cell_type": "code",
   "execution_count": 4,
   "metadata": {},
   "outputs": [
    {
     "name": "stdout",
     "output_type": "stream",
     "text": [
      "Enter your name: Aschwin\n",
      "Enter your age: 26\n",
      "Enter the number of the month you were born in: 2\n",
      "Enter the day of the month you we're born in:20\n",
      "Dear Aschwin, you will turn a 100 in the year 2092\n"
     ]
    }
   ],
   "source": [
    "date_day = 20\n",
    "date_month = 2\n",
    "date_year = 2018\n",
    "name = str(input(\"Enter your name: \"))\n",
    "age = int(input(\"Enter your age: \"))\n",
    "month = int(input(\"Enter the number of the month you were born in: \"))\n",
    "\n",
    "if month > date_month:\n",
    "    print(\"Dear %s, you will turn a 100 in the year %s\" %(name, (2018 + 100 - age -1)))\n",
    "\n",
    "if month < date_month:\n",
    "    print(\"Dear %s, you will turn a 100 in the year %s\" %(name, (2018 + 100 - age)))\n",
    "    \n",
    "if month == date_month:\n",
    "    day = int(input(\"Enter the day of the month you we're born in:\"))\n",
    "    print(\"Dear %s, you will turn a 100 in the year %s\" %(name, (2018 + 100 - age - int(day>date_day))))"
   ]
  },
  {
   "cell_type": "code",
   "execution_count": null,
   "metadata": {
    "collapsed": true
   },
   "outputs": [],
   "source": []
  },
  {
   "cell_type": "code",
   "execution_count": null,
   "metadata": {
    "collapsed": true
   },
   "outputs": [],
   "source": []
  },
  {
   "cell_type": "code",
   "execution_count": null,
   "metadata": {
    "collapsed": true
   },
   "outputs": [],
   "source": []
  }
 ],
 "metadata": {
  "kernelspec": {
   "display_name": "Python 3",
   "language": "python",
   "name": "python3"
  },
  "language_info": {
   "codemirror_mode": {
    "name": "ipython",
    "version": 3
   },
   "file_extension": ".py",
   "mimetype": "text/x-python",
   "name": "python",
   "nbconvert_exporter": "python",
   "pygments_lexer": "ipython3",
   "version": "3.6.3"
  }
 },
 "nbformat": 4,
 "nbformat_minor": 2
}
