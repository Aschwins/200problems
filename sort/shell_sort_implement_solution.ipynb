{
 "cells": [
  {
   "cell_type": "code",
   "execution_count": null,
   "metadata": {
    "collapsed": true
   },
   "outputs": [],
   "source": [
    "# Write a Python program to sort a list of elements using shell sort algorithm.\n",
    "# Note : According to Wikipedia \"Shell sort or Shell's method, is an in-place comparison sort. \n",
    "# It can be seen as either a generalization of sorting by exchange (bubble sort) or sorting by insertion (insertion sort). \n",
    "# The method starts by sorting pairs of elements far apart from each other, then progressively reducing the gap between\n",
    "# elements to be compared. Starting with far apart elements can move some out-of-place elements into position faster than\n",
    "# a simple nearest neighbor exchange.\""
   ]
  },
  {
   "cell_type": "code",
   "execution_count": null,
   "metadata": {
    "collapsed": true
   },
   "outputs": [],
   "source": [
    "def shellSort(alist):\n",
    "    sublistcount = len(alist)//2\n",
    "    while sublistcount > 0:\n",
    "      for start_position in range(sublistcount):\n",
    "        gap_InsertionSort(alist, start_position, sublistcount)\n",
    "\n",
    "      print(\"After increments of size\",sublistcount, \"The list is\",nlist)\n",
    "\n",
    "      sublistcount = sublistcount // 2\n",
    "\n",
    "def gap_InsertionSort(nlist,start,gap):\n",
    "    for i in range(start+gap,len(nlist),gap):\n",
    "\n",
    "        current_value = nlist[i]\n",
    "        position = i\n",
    "\n",
    "        while position>=gap and nlist[position-gap]>current_value:\n",
    "            nlist[position]=nlist[position-gap]\n",
    "            position = position-gap\n",
    "\n",
    "        nlist[position]=current_value\n",
    "\n",
    "\n",
    "nlist = [14,46,43,27,57,41,45,21,70]\n",
    "shellSort(nlist)\n",
    "print(nlist)"
   ]
  }
 ],
 "metadata": {
  "kernelspec": {
   "display_name": "Python 3",
   "language": "python",
   "name": "python3"
  },
  "language_info": {
   "codemirror_mode": {
    "name": "ipython",
    "version": 3
   },
   "file_extension": ".py",
   "mimetype": "text/x-python",
   "name": "python",
   "nbconvert_exporter": "python",
   "pygments_lexer": "ipython3",
   "version": "3.6.1"
  }
 },
 "nbformat": 4,
 "nbformat_minor": 2
}
