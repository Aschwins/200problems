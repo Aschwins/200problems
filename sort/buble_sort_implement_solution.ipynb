{
 "cells": [
  {
   "cell_type": "code",
   "execution_count": null,
   "metadata": {
    "collapsed": true
   },
   "outputs": [],
   "source": [
    "# Write a Python program to sort a list of elements using the bubble sort algorithm.\n",
    "# Note : According to Wikipedia \"Bubble sort, sometimes referred to as sinking sort, is a simple sorting algorithm that\n",
    "# repeatedly steps through the list to be sorted, compares each pair of adjacent items and swaps them if they are in the \n",
    "# wrong order. The pass through the list is repeated until no swaps are needed, which indicates that the list is sorted. \n",
    "# The algorithm, which is a comparison sort, is named for the way smaller elements \"bubble\" to the top of the list. \n",
    "# Although the algorithm is simple, it is too slow and impractical for most problems even when compared to insertion sort. \n",
    "# It can be practical if the input is usually in sort order but may occasionally have some out-of-order elements nearly \n",
    "# in position.\n",
    "\n",
    "def bubbleSort(nlist):\n",
    "    for passnum in range(len(nlist)-1,0,-1):\n",
    "        for i in range(passnum):\n",
    "            if nlist[i]>nlist[i+1]:\n",
    "                temp = nlist[i]\n",
    "                nlist[i] = nlist[i+1]\n",
    "                nlist[i+1] = temp\n",
    "\n",
    "nlist = [14,46,43,27,57,41,45,21,70]\n",
    "bubbleSort(nlist)\n",
    "print(nlist)"
   ]
  }
 ],
 "metadata": {
  "kernelspec": {
   "display_name": "Python 3",
   "language": "python",
   "name": "python3"
  },
  "language_info": {
   "codemirror_mode": {
    "name": "ipython",
    "version": 3
   },
   "file_extension": ".py",
   "mimetype": "text/x-python",
   "name": "python",
   "nbconvert_exporter": "python",
   "pygments_lexer": "ipython3",
   "version": "3.6.1"
  }
 },
 "nbformat": 4,
 "nbformat_minor": 2
}
