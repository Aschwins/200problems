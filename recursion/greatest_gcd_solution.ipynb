{
 "cells": [
  {
   "cell_type": "code",
   "execution_count": 1,
   "metadata": {},
   "outputs": [
    {
     "name": "stdout",
     "output_type": "stream",
     "text": [
      "2\n"
     ]
    }
   ],
   "source": [
    "# Write a Python program to find the greatest common divisor (gcd) of two integers.\n",
    "\n",
    "def Recurgcd(a, b):\n",
    "\tlow = min(a, b)\n",
    "\thigh = max(a, b)\n",
    "\n",
    "\tif low == 0:\n",
    "\t\treturn high\n",
    "\telif low == 1:\n",
    "\t\treturn 1\n",
    "\telse:\n",
    "\t\treturn Recurgcd(low, high%low)\n",
    "print(Recurgcd(12,14))"
   ]
  }
 ],
 "metadata": {
  "kernelspec": {
   "display_name": "Python 3",
   "language": "python",
   "name": "python3"
  },
  "language_info": {
   "codemirror_mode": {
    "name": "ipython",
    "version": 3
   },
   "file_extension": ".py",
   "mimetype": "text/x-python",
   "name": "python",
   "nbconvert_exporter": "python",
   "pygments_lexer": "ipython3",
   "version": "3.6.1"
  }
 },
 "nbformat": 4,
 "nbformat_minor": 2
}
