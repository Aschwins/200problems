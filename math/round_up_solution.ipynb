{
 "cells": [
  {
   "cell_type": "code",
   "execution_count": 1,
   "metadata": {},
   "outputs": [
    {
     "name": "stdout",
     "output_type": "stream",
     "text": [
      "Original  Number:  123.01247\n",
      "124\n",
      "123.1\n",
      "123.02\n",
      "123.013\n"
     ]
    }
   ],
   "source": [
    "# Write a Python function to round up a number to specified digits.\n",
    "\n",
    "import math\n",
    "\n",
    "def roundup(a, digits=0):\n",
    "    n = 10**-digits\n",
    "    return round(math.ceil(a / n) * n, digits)\n",
    "\n",
    "x = 123.01247\n",
    "print(\"Original  Number: \",x)\n",
    "print(roundup(x, 0))\n",
    "print(roundup(x, 1))\n",
    "print(roundup(x, 2))\n",
    "print(roundup(x, 3))"
   ]
  }
 ],
 "metadata": {
  "kernelspec": {
   "display_name": "Python 3",
   "language": "python",
   "name": "python3"
  },
  "language_info": {
   "codemirror_mode": {
    "name": "ipython",
    "version": 3
   },
   "file_extension": ".py",
   "mimetype": "text/x-python",
   "name": "python",
   "nbconvert_exporter": "python",
   "pygments_lexer": "ipython3",
   "version": "3.6.1"
  }
 },
 "nbformat": 4,
 "nbformat_minor": 2
}
