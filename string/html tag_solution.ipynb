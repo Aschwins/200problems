{
 "cells": [
  {
   "cell_type": "code",
   "execution_count": 2,
   "metadata": {},
   "outputs": [
    {
     "name": "stdout",
     "output_type": "stream",
     "text": [
      "<i>Python</i>\n",
      "<b>Python Tutorial</b>\n"
     ]
    }
   ],
   "source": [
    "# Write a Python function to create the HTML string with tags around the word(s).\n",
    "# Sample function and result : \n",
    "# add_tags('i', 'Python') -> '<i>Python</i>'\n",
    "# add_tags('b', 'Python Tutorial') -> '<b>Python Tutorial </b>'\n",
    "\n",
    "def add_tags(tag, word):\n",
    "\treturn \"<%s>%s</%s>\" % (tag, word, tag)\n",
    "\n",
    "print(add_tags('i', 'Python'))\n",
    "print(add_tags('b', 'Python Tutorial'))\n"
   ]
  }
 ],
 "metadata": {
  "kernelspec": {
   "display_name": "Python 3",
   "language": "python",
   "name": "python3"
  },
  "language_info": {
   "codemirror_mode": {
    "name": "ipython",
    "version": 3
   },
   "file_extension": ".py",
   "mimetype": "text/x-python",
   "name": "python",
   "nbconvert_exporter": "python",
   "pygments_lexer": "ipython3",
   "version": "3.6.1"
  }
 },
 "nbformat": 4,
 "nbformat_minor": 2
}
