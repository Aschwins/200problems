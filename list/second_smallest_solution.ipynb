{
 "cells": [
  {
   "cell_type": "code",
   "execution_count": null,
   "metadata": {
    "collapsed": true
   },
   "outputs": [],
   "source": [
    "# Write a Python program to find the second smallest number in a list.\n",
    "# input\n",
    "# second_smallest([1, 2, -8, -2, 0])\n",
    "# output\n",
    "# -2\n",
    "\n",
    "def second_smallest(numbers):\n",
    "    a1, a2 = float('inf'), float('inf')\n",
    "    for x in numbers:\n",
    "        if x <= a1:\n",
    "            a1, a2 = x, a1\n",
    "        elif x < a2:\n",
    "            a2 = x\n",
    "    return a2\n",
    "\n",
    "print(second_smallest([1, 2, -8, -2, 0]))"
   ]
  }
 ],
 "metadata": {
  "kernelspec": {
   "display_name": "Python 3",
   "language": "python",
   "name": "python3"
  },
  "language_info": {
   "codemirror_mode": {
    "name": "ipython",
    "version": 3
   },
   "file_extension": ".py",
   "mimetype": "text/x-python",
   "name": "python",
   "nbconvert_exporter": "python",
   "pygments_lexer": "ipython3",
   "version": "3.6.1"
  }
 },
 "nbformat": 4,
 "nbformat_minor": 2
}
