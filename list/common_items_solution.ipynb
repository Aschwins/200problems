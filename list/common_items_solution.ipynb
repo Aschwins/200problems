{
 "cells": [
  {
   "cell_type": "code",
   "execution_count": 1,
   "metadata": {},
   "outputs": [
    {
     "name": "stdout",
     "output_type": "stream",
     "text": [
      "{'Green', 'White'}\n"
     ]
    }
   ],
   "source": [
    "# Write a Python program to find common items from two lists.\n",
    "# input\n",
    "# color1 = \"Red\", \"Green\", \"Orange\", \"White\"\n",
    "# color2 = \"Black\", \"Green\", \"White\", \"Pink\"\n",
    "# output\n",
    "# {'Green', 'White'}\n",
    "\n",
    "color1 = \"Red\", \"Green\", \"Orange\", \"White\"\n",
    "color2 = \"Black\", \"Green\", \"White\", \"Pink\"\n",
    "print(set(color1) & set(color2))"
   ]
  }
 ],
 "metadata": {
  "kernelspec": {
   "display_name": "Python 3",
   "language": "python",
   "name": "python3"
  },
  "language_info": {
   "codemirror_mode": {
    "name": "ipython",
    "version": 3
   },
   "file_extension": ".py",
   "mimetype": "text/x-python",
   "name": "python",
   "nbconvert_exporter": "python",
   "pygments_lexer": "ipython3",
   "version": "3.6.1"
  }
 },
 "nbformat": 4,
 "nbformat_minor": 2
}
