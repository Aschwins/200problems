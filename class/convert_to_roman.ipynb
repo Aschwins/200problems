{
 "cells": [
  {
   "cell_type": "code",
   "execution_count": 2,
   "metadata": {
    "collapsed": true
   },
   "outputs": [],
   "source": [
    "# Write a Python program to convert an integer to a roman numeral.\n",
    "# Input 1, 4000\n",
    "# Output I, MMMM"
   ]
  },
  {
   "cell_type": "code",
   "execution_count": 3,
   "metadata": {
    "collapsed": true
   },
   "outputs": [],
   "source": [
    "class py_solution:\n",
    "    def convert_to_roman(self, i):\n",
    "        roman = ''\n",
    "        str1 = str(i)\n",
    "        \n",
    "        # Putting 'M''s in roman for all thousands in the integer\n",
    "        if len(str1) > 3:\n",
    "            thousands = int(str1[0:len(str1)-3])\n",
    "            for i in range(thousands):\n",
    "                roman = roman + 'M'\n",
    "        \n",
    "            # remove all the thousands from the string:\n",
    "            str1 = str1[3:len(str1)]\n",
    "               \n",
    "        # Taking care of the hundreds in the integer.\n",
    "        if len(str1)>2:\n",
    "            if int(str1[0]) == 9:\n",
    "                roman = roman + 'CM'\n",
    "                str1 = str1[1:len(str1)]\n",
    "\n",
    "            if int(str1[0]) == 8:\n",
    "                roman = roman + 'DCCC'\n",
    "                str1 = str1[1:len(str1)]\n",
    "\n",
    "            if int(str1[0]) == 7:\n",
    "                roman = roman + 'DCC'\n",
    "                str1 = str1[1:len(str1)]\n",
    "\n",
    "            if int(str1[0]) == 6:\n",
    "                roman = roman + 'DC'\n",
    "                str1 = str1[1:len(str1)]\n",
    "\n",
    "            if int(str1[0]) == 5:\n",
    "                roman = roman + 'D'\n",
    "                str1 = str1[1:len(str1)]\n",
    "\n",
    "            if int(str1[0]) == 4:\n",
    "                roman = roman + 'CD'\n",
    "                str1 = str1[1:len(str1)]\n",
    "\n",
    "            if int(str1[0]) == 3:\n",
    "                roman = roman + 'CCC'\n",
    "                str1 = str1[1:len(str1)]\n",
    "\n",
    "            if int(str1[0]) == 2:\n",
    "                roman = roman + 'CC'\n",
    "                str1 = str1[1:len(str1)]\n",
    "\n",
    "            if int(str1[0]) == 1:\n",
    "                roman = roman + 'C'\n",
    "                str1 = str1[1:len(str1)]\n",
    "\n",
    "        # Taking care of the tens --------------------\n",
    "        if len(str1) > 1:\n",
    "            if int(str1[0]) == 9:\n",
    "                roman = roman + 'XC'\n",
    "                str1 = str1[1:len(str1)]\n",
    "\n",
    "            elif int(str1[0]) == 8:\n",
    "                roman = roman + 'LXXX'\n",
    "                str1 = str1[1:len(str1)]\n",
    "\n",
    "            elif int(str1[0]) == 7:\n",
    "                roman = roman + 'LXX'\n",
    "                str1 = str1[1:len(str1)]\n",
    "\n",
    "            elif int(str1[0]) == 6:\n",
    "                roman = roman + 'LX'\n",
    "                str1 = str1[1:len(str1)]\n",
    "\n",
    "            elif int(str1[0]) == 5:\n",
    "                roman = roman + 'L'\n",
    "                str1 = str1[1:len(str1)]\n",
    "\n",
    "            elif int(str1[0]) == 4:\n",
    "                roman = roman + 'XL'\n",
    "                str1 = str1[1:len(str1)]\n",
    "\n",
    "            elif int(str1[0]) == 3:\n",
    "                roman = roman + 'XXX'\n",
    "                str1 = str1[1:len(str1)]\n",
    "\n",
    "            elif int(str1[0]) == 2:\n",
    "                roman = roman + 'XX'\n",
    "                str1 = str1[1:len(str1)]\n",
    "\n",
    "            elif int(str1[0]) == 1:\n",
    "                roman = roman + 'X'\n",
    "                str1 = str1[1:len(str1)]\n",
    "\n",
    "            elif int(str1[0]) == 0:\n",
    "                roman = roman + ''\n",
    "                str1 = str1[1:len(str1)]\n",
    "            \n",
    "        # taking care of the single values in the integer:\n",
    "        if len(str1)> 0:\n",
    "            if int(str1[0]) == 9:\n",
    "                roman = roman + 'IX'\n",
    "\n",
    "            elif int(str1[0]) == 8:\n",
    "                roman = roman + 'VIII'\n",
    "\n",
    "            elif int(str1[0]) == 7:\n",
    "                roman = roman + 'VII'\n",
    "\n",
    "            elif int(str1[0]) == 6:\n",
    "                roman = roman + 'VI'\n",
    "\n",
    "            elif int(str1[0]) == 5:\n",
    "                roman = roman + 'V'\n",
    "\n",
    "            elif int(str1[0]) == 4:\n",
    "                roman = roman + 'IV'\n",
    "\n",
    "            elif int(str1[0]) == 3:\n",
    "                roman = roman + 'III'\n",
    "\n",
    "            elif int(str1[0]) == 2:\n",
    "                roman = roman + 'II'\n",
    "\n",
    "            elif int(str1[0]) == 1:\n",
    "                roman = roman + 'I'\n",
    "\n",
    "            elif int(str1[0]) == 0:\n",
    "                roman = roman + ''\n",
    "            \n",
    "        return roman        "
   ]
  },
  {
   "cell_type": "code",
   "execution_count": 4,
   "metadata": {},
   "outputs": [
    {
     "data": {
      "text/plain": [
       "{'C': 100, 'D': 500, 'I': 1, 'L': 50, 'M': 1000, 'V': 5, 'X': 10}"
      ]
     },
     "execution_count": 4,
     "metadata": {},
     "output_type": "execute_result"
    }
   ],
   "source": [
    "{'I':1, 'V':5, 'X':10, 'L':50, 'C':100, 'D':500, 'M':1000}"
   ]
  },
  {
   "cell_type": "code",
   "execution_count": 5,
   "metadata": {
    "collapsed": true
   },
   "outputs": [],
   "source": [
    "a = '4000'"
   ]
  },
  {
   "cell_type": "code",
   "execution_count": 6,
   "metadata": {},
   "outputs": [
    {
     "ename": "SyntaxError",
     "evalue": "can't assign to literal (<ipython-input-6-49764c73152b>, line 1)",
     "output_type": "error",
     "traceback": [
      "\u001b[0;36m  File \u001b[0;32m\"<ipython-input-6-49764c73152b>\"\u001b[0;36m, line \u001b[0;32m1\u001b[0m\n\u001b[0;31m    1900 = MCM\u001b[0m\n\u001b[0m              ^\u001b[0m\n\u001b[0;31mSyntaxError\u001b[0m\u001b[0;31m:\u001b[0m can't assign to literal\n"
     ]
    }
   ],
   "source": [
    "1900 = MCM\n",
    "1800 = MCCM\n",
    "1700 = MDCC\n"
   ]
  },
  {
   "cell_type": "code",
   "execution_count": 16,
   "metadata": {},
   "outputs": [
    {
     "data": {
      "text/plain": [
       "'XCIX'"
      ]
     },
     "execution_count": 16,
     "metadata": {},
     "output_type": "execute_result"
    }
   ],
   "source": [
    "py_solution().convert_to_roman(99)"
   ]
  },
  {
   "cell_type": "code",
   "execution_count": null,
   "metadata": {
    "collapsed": true
   },
   "outputs": [],
   "source": [
    "IC"
   ]
  },
  {
   "cell_type": "code",
   "execution_count": null,
   "metadata": {
    "collapsed": true
   },
   "outputs": [],
   "source": []
  },
  {
   "cell_type": "code",
   "execution_count": null,
   "metadata": {
    "collapsed": true
   },
   "outputs": [],
   "source": []
  }
 ],
 "metadata": {
  "kernelspec": {
   "display_name": "Python 3",
   "language": "python",
   "name": "python3"
  },
  "language_info": {
   "codemirror_mode": {
    "name": "ipython",
    "version": 3
   },
   "file_extension": ".py",
   "mimetype": "text/x-python",
   "name": "python",
   "nbconvert_exporter": "python",
   "pygments_lexer": "ipython3",
   "version": "3.6.3"
  }
 },
 "nbformat": 4,
 "nbformat_minor": 2
}
