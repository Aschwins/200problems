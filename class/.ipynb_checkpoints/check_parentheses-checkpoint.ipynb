{
 "cells": [
  {
   "cell_type": "code",
   "execution_count": 1,
   "metadata": {
    "collapsed": true
   },
   "outputs": [],
   "source": [
    "# ---------------------------------------------------------------\n",
    "# python best courses https://courses.tanpham.org/\n",
    "# ---------------------------------------------------------------\n",
    "# Write a Python program to find validity of a string of parentheses, '(', ')', '{', '}', '[' and ']. \n",
    "# These brackets must be close in the correct order, \n",
    "# for example \"()\" and \"()[]{}\" are valid but \"[)\", \"({[)]\" and \"{{{\" are invalid."
   ]
  },
  {
   "cell_type": "code",
   "execution_count": 74,
   "metadata": {},
   "outputs": [],
   "source": [
    "class py_solution:\n",
    "    def valid_parenthese(self, str1):\n",
    "        stack, pchar = '', ['{','}', '(', ')', '[', ']']\n",
    "        \n",
    "        # let's loop through the string and make a stack of all parentheses\n",
    "        for i in str1:\n",
    "            if i in pchar:\n",
    "                stack = stack + i\n",
    "                \n",
    "        print(\"Our string gave us the following stack: %s \" %stack)\n",
    "        \n",
    "        # somewhere in stack there has to be a parenthese that gets closed directly.\n",
    "        # we'll remove that set of parentheses and repeat untill the stack is empty.\n",
    "        # if the stack is not empty in the end we'll return false.      \n",
    "        previous = ''\n",
    "        inp = stack\n",
    "        while len(inp) != len(previous):\n",
    "            previous = inp\n",
    "            inp = inp.replace('{}', '')\n",
    "            inp = inp.replace('()', '')\n",
    "            inp = inp.replace('[]', '')\n",
    "        \n",
    "        return print('So the statement that this string contains valis parenthese is: %s' %(len(inp) == 0))"
   ]
  },
  {
   "cell_type": "code",
   "execution_count": 76,
   "metadata": {},
   "outputs": [
    {
     "name": "stdout",
     "output_type": "stream",
     "text": [
      "Our string gave us the following stack: {}[][]() \n",
      "So the statement that this string contains valis parenthese is: True\n"
     ]
    }
   ],
   "source": [
    "py_solution().valid_parenthese('{}[a]s[fj]ka(f)')"
   ]
  }
 ],
 "metadata": {
  "kernelspec": {
   "display_name": "Python 3",
   "language": "python",
   "name": "python3"
  },
  "language_info": {
   "codemirror_mode": {
    "name": "ipython",
    "version": 3
   },
   "file_extension": ".py",
   "mimetype": "text/x-python",
   "name": "python",
   "nbconvert_exporter": "python",
   "pygments_lexer": "ipython3",
   "version": "3.6.3"
  }
 },
 "nbformat": 4,
 "nbformat_minor": 2
}
