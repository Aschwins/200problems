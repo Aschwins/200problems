{
 "cells": [
  {
   "cell_type": "code",
   "execution_count": 1,
   "metadata": {
    "collapsed": true
   },
   "outputs": [],
   "source": [
    "# Write a Python class to reverse a string word by word.\n",
    "# Input \"hello world\"\n",
    "# Output \"world hello\""
   ]
  },
  {
   "cell_type": "code",
   "execution_count": 90,
   "metadata": {},
   "outputs": [],
   "source": [
    "class str1():\n",
    "    def __init__(self):\n",
    "        self.original = ''\n",
    "    \n",
    "    def get(self):\n",
    "        self.original = input()\n",
    "        \n",
    "    def reverse(self):\n",
    "        stack = []\n",
    "        start = 0\n",
    "        for i in range(len(self.original)):\n",
    "            if self.original[i] == ' ':\n",
    "                stack.append(self.original[start:i])\n",
    "                start = i+1\n",
    "        stack.append(self.original[start:len(self.original)])        \n",
    "      \n",
    "        revers = ''\n",
    "        while len(stack)>0:\n",
    "            revers = revers + stack[-1] + ' '\n",
    "            del stack[-1]\n",
    "        \n",
    "        revers = revers[0:-1]\n",
    "        return revers"
   ]
  },
  {
   "cell_type": "code",
   "execution_count": 91,
   "metadata": {
    "collapsed": true
   },
   "outputs": [],
   "source": [
    "a = str1()"
   ]
  },
  {
   "cell_type": "code",
   "execution_count": 92,
   "metadata": {},
   "outputs": [
    {
     "name": "stdout",
     "output_type": "stream",
     "text": [
      "this is a list\n"
     ]
    }
   ],
   "source": [
    "a.get()"
   ]
  },
  {
   "cell_type": "code",
   "execution_count": 93,
   "metadata": {},
   "outputs": [
    {
     "data": {
      "text/plain": [
       "'list a is this'"
      ]
     },
     "execution_count": 93,
     "metadata": {},
     "output_type": "execute_result"
    }
   ],
   "source": [
    "a.reverse()"
   ]
  }
 ],
 "metadata": {
  "kernelspec": {
   "display_name": "Python 3",
   "language": "python",
   "name": "python3"
  },
  "language_info": {
   "codemirror_mode": {
    "name": "ipython",
    "version": 3
   },
   "file_extension": ".py",
   "mimetype": "text/x-python",
   "name": "python",
   "nbconvert_exporter": "python",
   "pygments_lexer": "ipython3",
   "version": "3.6.3"
  }
 },
 "nbformat": 4,
 "nbformat_minor": 2
}
