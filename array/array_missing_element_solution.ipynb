{
 "cells": [
  {
   "cell_type": "code",
   "execution_count": 25,
   "metadata": {
    "scrolled": true
   },
   "outputs": [
    {
     "name": "stdout",
     "output_type": "stream",
     "text": [
      "5\n"
     ]
    }
   ],
   "source": [
    "# ----------------------------------------------------------------\n",
    "# Consider an array of non-negative integers.\n",
    "# A second array is formed by shuffling the elements of the first array and deleting a random element. \n",
    "# Given these two arrays, find which element is missing in the second array.\n",
    "# Here is an example input, the first array is shuffled and the number 5 is removed to construct the second array.\n",
    "# Input:\n",
    "# finder([1,2,3,4,5,6,7],[3,7,2,1,4,6])\n",
    "# Output:\n",
    "# 5 is the missing number\n",
    "# ----------------------------------------------------------------\n",
    "# Algorithm\n",
    "# \n",
    "# ----------------------------------------------------------------\n",
    "\n",
    "\n",
    "first_array = [1,2,3,4,5,6,7]\n",
    "second_array = [3,7,2,1,4,6]\n",
    "\n",
    "def finder(first_array, second_array):\n",
    "    return(sum(first_array) - sum(second_array))\n",
    "\n",
    "missing_number = finder(first_array, second_array)\n",
    "\n",
    "print(missing_number)    "
   ]
  }
 ],
 "metadata": {
  "kernelspec": {
   "display_name": "Python 3",
   "language": "python",
   "name": "python3"
  },
  "language_info": {
   "codemirror_mode": {
    "name": "ipython",
    "version": 3
   },
   "file_extension": ".py",
   "mimetype": "text/x-python",
   "name": "python",
   "nbconvert_exporter": "python",
   "pygments_lexer": "ipython3",
   "version": "3.6.1"
  }
 },
 "nbformat": 4,
 "nbformat_minor": 2
}
