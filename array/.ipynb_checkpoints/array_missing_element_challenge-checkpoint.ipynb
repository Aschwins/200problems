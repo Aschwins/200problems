{
 "cells": [
  {
   "cell_type": "code",
   "execution_count": 1,
   "metadata": {
    "collapsed": true,
    "scrolled": true
   },
   "outputs": [],
   "source": [
    "# Consider an array of non-negative integers.\n",
    "# A second array is formed by shuffling the elements of the first array and deleting a random element. \n",
    "# Given these two arrays, find which element is missing in the second array.\n",
    "# Here is an example input, the first array is shuffled and the number 5 is removed to construct the second array.\n",
    "# Input:\n",
    "# finder([1,2,3,4,5,6,7],[3,7,2,1,4,6])\n",
    "# Output:\n",
    "# 5 is the missing number"
   ]
  },
  {
   "cell_type": "code",
   "execution_count": 8,
   "metadata": {
    "collapsed": true
   },
   "outputs": [],
   "source": [
    "def finder(x,y):\n",
    "    # x is the original, y is the shuffled with the missing value\n",
    "    for i in range(len(x)):\n",
    "        teller = 0\n",
    "        for j in range(len(y)):\n",
    "            if x[i] == y[j]:\n",
    "                teller += 1\n",
    "        if teller > 0:\n",
    "            print('Not the missing number...')\n",
    "        else:\n",
    "            missing_number = x[i]\n",
    "            print('Missing number found! Missing number is %s' %missing_number)\n",
    "    return missing_number"
   ]
  },
  {
   "cell_type": "code",
   "execution_count": 9,
   "metadata": {},
   "outputs": [
    {
     "name": "stdout",
     "output_type": "stream",
     "text": [
      "Not the missing number...\n",
      "Not the missing number...\n",
      "Not the missing number...\n",
      "Not the missing number...\n",
      "Missing number found! Missing number is 5\n",
      "Not the missing number...\n",
      "Not the missing number...\n"
     ]
    },
    {
     "data": {
      "text/plain": [
       "5"
      ]
     },
     "execution_count": 9,
     "metadata": {},
     "output_type": "execute_result"
    }
   ],
   "source": [
    "finder([1,2,3,4,5,6,7],[3,7,2,1,4,6])"
   ]
  },
  {
   "cell_type": "code",
   "execution_count": null,
   "metadata": {
    "collapsed": true
   },
   "outputs": [],
   "source": [
    "range"
   ]
  }
 ],
 "metadata": {
  "kernelspec": {
   "display_name": "Python 3",
   "language": "python",
   "name": "python3"
  },
  "language_info": {
   "codemirror_mode": {
    "name": "ipython",
    "version": 3
   },
   "file_extension": ".py",
   "mimetype": "text/x-python",
   "name": "python",
   "nbconvert_exporter": "python",
   "pygments_lexer": "ipython3",
   "version": "3.6.3"
  }
 },
 "nbformat": 4,
 "nbformat_minor": 2
}
