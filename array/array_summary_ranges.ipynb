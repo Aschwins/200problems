{
 "cells": [
  {
   "cell_type": "code",
   "execution_count": 7,
   "metadata": {
    "collapsed": true
   },
   "outputs": [],
   "source": [
    "# Given a sorted integer array without duplicates,\n",
    "# return the summary of its ranges.\n",
    "# For example, given [0,1,2,4,5,7], return [\"0->2\",\"4->5\",\"7\"].\n",
    "\n",
    "input_array = [0,1,2,4,5,7]\n",
    "input_array = [1,2,3,6,9,11,12,13,14,19,20]\n",
    "\n"
   ]
  },
  {
   "cell_type": "code",
   "execution_count": 2,
   "metadata": {
    "collapsed": true
   },
   "outputs": [],
   "source": [
    "vec = [0,1,2,4,5,7]"
   ]
  },
  {
   "cell_type": "code",
   "execution_count": 13,
   "metadata": {
    "collapsed": true
   },
   "outputs": [],
   "source": [
    "def find_intervals(vec):\n",
    "    start = 0\n",
    "    result = []\n",
    "\n",
    "    # To find the intervals we'll define a startpoint, start,  of the interval and make a pointer, end, \n",
    "    #  which is going to find the end of the interval\n",
    "    \n",
    "    while start < len(vec):\n",
    "        end = start\n",
    "        # only move end if end+1 +=1 and if it's not longer than the input vector\n",
    "        while end + 1 < len(vec) and ((vec[end+1]-vec[end])==1):\n",
    "            end = end +1\n",
    "            print('Found a new endpoint of an interval: %s' %vec[end])\n",
    "    \n",
    "        # adding the new range to the result vector\n",
    "        if end != start:\n",
    "            result.append(\"{0} --> {1}\".format(vec[start], vec[end]))\n",
    "            print(result)\n",
    "        else:\n",
    "            result.append(\"{0}\".format(vec[start]))\n",
    "            print('No interval found, just a single digit: %s' %vec[end])\n",
    "            print(result)\n",
    "    \n",
    "        # Start the next interval\n",
    "        start = end + 1\n",
    "\n",
    "    return result"
   ]
  },
  {
   "cell_type": "code",
   "execution_count": 14,
   "metadata": {},
   "outputs": [
    {
     "name": "stdout",
     "output_type": "stream",
     "text": [
      "Found a new endpoint of an interval: 2\n",
      "Found a new endpoint of an interval: 3\n",
      "['1 --> 3']\n",
      "No interval found, just a single digit: 6\n",
      "['1 --> 3', '6']\n",
      "No interval found, just a single digit: 9\n",
      "['1 --> 3', '6', '9']\n",
      "Found a new endpoint of an interval: 12\n",
      "Found a new endpoint of an interval: 13\n",
      "Found a new endpoint of an interval: 14\n",
      "['1 --> 3', '6', '9', '11 --> 14']\n",
      "Found a new endpoint of an interval: 20\n",
      "['1 --> 3', '6', '9', '11 --> 14', '19 --> 20']\n"
     ]
    },
    {
     "data": {
      "text/plain": [
       "['1 --> 3', '6', '9', '11 --> 14', '19 --> 20']"
      ]
     },
     "execution_count": 14,
     "metadata": {},
     "output_type": "execute_result"
    }
   ],
   "source": [
    "find_intervals(input_array)"
   ]
  },
  {
   "cell_type": "code",
   "execution_count": null,
   "metadata": {
    "collapsed": true
   },
   "outputs": [],
   "source": []
  }
 ],
 "metadata": {
  "kernelspec": {
   "display_name": "Python 3",
   "language": "python",
   "name": "python3"
  },
  "language_info": {
   "codemirror_mode": {
    "name": "ipython",
    "version": 3
   },
   "file_extension": ".py",
   "mimetype": "text/x-python",
   "name": "python",
   "nbconvert_exporter": "python",
   "pygments_lexer": "ipython3",
   "version": "3.6.3"
  }
 },
 "nbformat": 4,
 "nbformat_minor": 2
}
