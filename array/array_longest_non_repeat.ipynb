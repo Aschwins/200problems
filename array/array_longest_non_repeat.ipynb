{
 "cells": [
  {
   "cell_type": "markdown",
   "metadata": {},
   "source": [
    "## Solution by Aschwin\n",
    "\n",
    "I decided to also return the longest substring"
   ]
  },
  {
   "cell_type": "code",
   "execution_count": 1,
   "metadata": {
    "collapsed": true
   },
   "outputs": [],
   "source": [
    "# ---------------------------------------------------------------\n",
    "# python best courses https://courses.tanpham.org/\n",
    "# ---------------------------------------------------------------\n",
    "# Challenge\n",
    "# \n",
    "# Given a string, find the length of the longest substring\n",
    "# without repeating characters.\n",
    "\n",
    "# Examples:\n",
    "\n",
    "# Given \"abcabcbb\", the answer is \"abc\", which the length is 3.\n",
    "# Given \"bbbbb\", the answer is \"b\", with the length of 1.\n",
    "# Given \"pwwkew\", the answer is \"wke\", with the length of 3.\n",
    "# ---------------------------------------------------------------"
   ]
  },
  {
   "cell_type": "code",
   "execution_count": 2,
   "metadata": {
    "collapsed": true
   },
   "outputs": [],
   "source": [
    "import numpy as np\n",
    "import pandas as pd"
   ]
  },
  {
   "cell_type": "code",
   "execution_count": 78,
   "metadata": {
    "collapsed": true
   },
   "outputs": [],
   "source": [
    "string = 'abcadefgcdhij'"
   ]
  },
  {
   "cell_type": "code",
   "execution_count": 119,
   "metadata": {
    "collapsed": true
   },
   "outputs": [],
   "source": [
    "def long_sub(str):\n",
    "    sub = [] # we fill this with non repeating substrings\n",
    "    teller = 0 # when we find a char, that's repeating this goes up!\n",
    "    max_length = 0 # We same the length of the longest substring found\n",
    "    max_sub = [] # the longest substring\n",
    "    for i in range(len(string)):\n",
    "        for j in range(len(sub)):\n",
    "            if string[i] == sub[j]:\n",
    "                teller = teller + 1\n",
    "                print(\"Same letter found!\")\n",
    "        if teller > 0:\n",
    "            if (len(sub)>max_length):\n",
    "                max_length = len(sub)\n",
    "                print(\"New max length found! Now the max length = %s\" %max_length)\n",
    "                max_sub = sub\n",
    "                print(\"Our new maximum non repeating substring is: %s\" %''.join(max_sub))\n",
    "                sub = []\n",
    "            teller = 0\n",
    "        else:\n",
    "            sub.append(string[i])\n",
    "    return ''.join(max_sub)"
   ]
  },
  {
   "cell_type": "code",
   "execution_count": 121,
   "metadata": {},
   "outputs": [
    {
     "name": "stdout",
     "output_type": "stream",
     "text": [
      "Same letter found!\n",
      "New max length found! Now the max length = 3\n",
      "Our new maximum non repeating substring is: abc\n",
      "Same letter found!\n",
      "New max length found! Now the max length = 5\n",
      "Our new maximum non repeating substring is: defgc\n"
     ]
    }
   ],
   "source": [
    "longest_sub = long_sub(string)"
   ]
  },
  {
   "cell_type": "code",
   "execution_count": null,
   "metadata": {
    "collapsed": true
   },
   "outputs": [],
   "source": []
  }
 ],
 "metadata": {
  "kernelspec": {
   "display_name": "Python 3",
   "language": "python",
   "name": "python3"
  },
  "language_info": {
   "codemirror_mode": {
    "name": "ipython",
    "version": 3
   },
   "file_extension": ".py",
   "mimetype": "text/x-python",
   "name": "python",
   "nbconvert_exporter": "python",
   "pygments_lexer": "ipython3",
   "version": "3.6.3"
  }
 },
 "nbformat": 4,
 "nbformat_minor": 2
}
