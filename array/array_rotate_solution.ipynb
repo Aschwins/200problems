{
 "cells": [
  {
   "cell_type": "code",
   "execution_count": 1,
   "metadata": {},
   "outputs": [
    {
     "name": "stdout",
     "output_type": "stream",
     "text": [
      "[5, 6, 7, 1, 2, 3, 4]\n"
     ]
    }
   ],
   "source": [
    "\"\"\"\n",
    "Rotate an array of n elements to the right by k steps.\n",
    "For example, with n = 7 and k = 3,\n",
    "the array [1,2,3,4,5,6,7] is rotated to [5,6,7,1,2,3,4].\n",
    "Note:\n",
    "Try to come up as many solutions as you can,\n",
    "there are at least 3 different ways to solve this problem.\n",
    "\"\"\"\n",
    "\n",
    "org = [1,2,3,4,5,6,7]\n",
    "result = org[:]\n",
    "steps = 3\n",
    "\n",
    "for idx,num in enumerate(org):\n",
    "    if idx+steps < len(org):\n",
    "        result[idx+steps] = org[idx]\n",
    "    else:\n",
    "        result[idx+steps-len(org)] = org[idx]\n",
    "\n",
    "print(result)"
   ]
  }
 ],
 "metadata": {
  "kernelspec": {
   "display_name": "Python 3",
   "language": "python",
   "name": "python3"
  },
  "language_info": {
   "codemirror_mode": {
    "name": "ipython",
    "version": 3
   },
   "file_extension": ".py",
   "mimetype": "text/x-python",
   "name": "python",
   "nbconvert_exporter": "python",
   "pygments_lexer": "ipython3",
   "version": "3.6.1"
  }
 },
 "nbformat": 4,
 "nbformat_minor": 2
}
