{
 "cells": [
  {
   "cell_type": "code",
   "execution_count": 3,
   "metadata": {},
   "outputs": [
    {
     "name": "stdout",
     "output_type": "stream",
     "text": [
      "0 1\n",
      "0 2\n",
      "0 3\n",
      "1 2\n",
      "1 3\n",
      "2 3\n"
     ]
    }
   ],
   "source": [
    "\"\"\"\n",
    "Given an array of integers, return indices of the two numbers\n",
    "such that they add up to a specific target.\n",
    "You may assume that each input would have exactly one solution,\n",
    "and you may not use the same element twice.\n",
    "Example:\n",
    "    Given nums = [2, 7, 11, 15], target = 26,\n",
    "    Because nums[0] + nums[1] = 11 + 15 = 26,\n",
    "    return [2, 3].\n",
    "\"\"\"\n",
    "\n",
    "# Solution 1\n",
    "# Try all \n",
    "\n",
    "input_array = [2, 7, 11, 15]\n",
    "target = 26\n",
    "result = []\n",
    "\n",
    "for i, num in enumerate(input_array):\n",
    "    for j in range(i+1, len(input_array)):\n",
    "        print(i,j)\n"
   ]
  },
  {
   "cell_type": "code",
   "execution_count": null,
   "metadata": {
    "collapsed": true
   },
   "outputs": [],
   "source": [
    "# Solution 2\n",
    "\n"
   ]
  }
 ],
 "metadata": {
  "kernelspec": {
   "display_name": "Python 3",
   "language": "python",
   "name": "python3"
  },
  "language_info": {
   "codemirror_mode": {
    "name": "ipython",
    "version": 3
   },
   "file_extension": ".py",
   "mimetype": "text/x-python",
   "name": "python",
   "nbconvert_exporter": "python",
   "pygments_lexer": "ipython3",
   "version": "3.6.1"
  }
 },
 "nbformat": 4,
 "nbformat_minor": 2
}
