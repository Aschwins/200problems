{
 "cells": [
  {
   "cell_type": "code",
   "execution_count": 2,
   "metadata": {},
   "outputs": [
    {
     "name": "stdout",
     "output_type": "stream",
     "text": [
      "['0-->2']\n",
      "['0-->2', '4-->5']\n",
      "['0-->2', '4-->5', '7']\n",
      "['0-->2', '4-->5', '7']\n"
     ]
    }
   ],
   "source": [
    "\"\"\"\n",
    "Given a sorted integer array without duplicates,\n",
    "return the summary of its ranges.\n",
    "For example, given [0,1,2,4,5,7], return [\"0->2\",\"4->5\",\"7\"].\n",
    "\"\"\"\n",
    "\n",
    "input_array = [0,1,2,4,5,7]\n",
    "# input_array = [1,2,3,6,9,11,12,13,14,19,20]\n",
    "\n",
    "start=0\n",
    "result = []\n",
    "\n",
    "# i=0\n",
    "# while i <= len(input_array)-1:\n",
    "#     print(i, input_array[i])\n",
    "#     i = i+1\n",
    "\n",
    "\n",
    "while start < len(input_array):\n",
    "    \n",
    "    # initial end at start position     \n",
    "    end = start\n",
    "\n",
    "    # continue to move the end pointer if the gap is 1 with beside number\n",
    "    # only continue to move if index end+1 is inside array     \n",
    "    while end+1<len(input_array) and ((input_array[end+1] - input_array[end]) == 1):\n",
    "        end = end + 1\n",
    "\n",
    "    # add range to result after calculate     \n",
    "    if end!=start:\n",
    "        result.append(\"{0}-->{1}\".format(input_array[start], input_array[end]))\n",
    "        print(result)\n",
    "    else:\n",
    "        result.append(\"{0}\".format(input_array[start]))\n",
    "        print(result)\n",
    "        \n",
    "    # change to next range\n",
    "    start = end+1\n",
    "\n",
    "print(result)\n",
    "\n",
    "\n",
    "            "
   ]
  }
 ],
 "metadata": {
  "kernelspec": {
   "display_name": "Python 3",
   "language": "python",
   "name": "python3"
  },
  "language_info": {
   "codemirror_mode": {
    "name": "ipython",
    "version": 3
   },
   "file_extension": ".py",
   "mimetype": "text/x-python",
   "name": "python",
   "nbconvert_exporter": "python",
   "pygments_lexer": "ipython3",
   "version": "3.6.1"
  }
 },
 "nbformat": 4,
 "nbformat_minor": 2
}
